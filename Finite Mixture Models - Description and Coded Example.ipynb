{
 "cells": [
  {
   "cell_type": "markdown",
   "metadata": {},
   "source": [
    "### Finite Mixture Models - Description and Coded Example\n",
    "##### Sam Leonard\n",
    "\n",
    "Here's a quick description and coded example of a finite mixture model.  \n",
    "\n",
    "According to Wikipedia, the average American male is $5$ feet $9.5$ inches tall, and the average American female is $5'4''$.  Let's assume that heights for both men and women are normally distributed around their respective means, with a standard deviation of $1$.  Let's also assume the American population is is $50\\%$ female and $50\\%$ male.\n",
    "\n",
    "Under these assumptions, the probability density function of the height of a randomly selected American is:\n",
    "\n",
    "$$p(y| \\theta_{1} = 69.5, \\theta_{2} = 64, \\sigma^{2} = 1) = (\\frac{1}{2})*N(69.5, 1) + (\\frac{1}{2})*N(64, 1)$$\n",
    "\n",
    "In other words, the height probability is expressed as a mixture of two distinct distributions.  This is a finite mixture model.  \n",
    "\n",
    "In general, these models take the form:\n",
    "\n",
    "$$p(y| \\theta_{1}, ..., \\theta_{K}, \\lambda_{1}, ..., \\lambda_{k}) = \\sum_{i = 1}^{K}\\lambda_{i}p(y|\\theta_{i})$$\n",
    "\n",
    "Here the $\\theta_{i}$ represent parameters for a probability distribution, and the $\\lambda_{i}$ represent the probability $y$ is drawn from distribution $i$ so that $\\sum \\lambda_{i}= 1$.\n",
    "\n",
    "Finite mixture models are useful for describing data that you assume to be drawn from two or more distinct distributions, but you're not sure which data points correspond to which distributions.    \n",
    "\n",
    "In the height example, we knew $\\lambda$, $\\theta_{1}$, and $\\theta_{2}$.  In general this probably won't be the case.  However, given some data, we can use Bayesian statistics to generate reasonable estimates for these parameters.  \n",
    "\n",
    "Below is Python code that performs this estimation and creates a graph to help visualize the results.\n",
    "\n"
   ]
  },
  {
   "cell_type": "code",
   "execution_count": 26,
   "metadata": {
    "collapsed": false
   },
   "outputs": [],
   "source": [
    "%matplotlib inline\n",
    "import matplotlib\n",
    "import numpy as np\n",
    "from scipy.stats import norm, dirichlet\n",
    "\n",
    "sigma = 1\n",
    "data1 = norm.rvs(69.5, sigma, 50)\n",
    "data2 = norm.rvs(64, sigma, 50)\n",
    "data = np.append(data1, data2)"
   ]
  },
  {
   "cell_type": "markdown",
   "metadata": {},
   "source": [
    "Here's a dataset consisting of $50$ random draws each from two distinct normal distributions.  The first with a mean of $69.5$, the mean height in inches of American males, and the second with mean $64$, the mean height of American females.  "
   ]
  },
  {
   "cell_type": "code",
   "execution_count": 27,
   "metadata": {
    "collapsed": false,
    "scrolled": true
   },
   "outputs": [],
   "source": [
    "K = 30\n",
    "alpha = 1\n",
    "n = len(data)\n",
    "tau = 10\n",
    "mu0 = 66.75\n",
    "theta_vector = norm.rvs(mu0, tau, K)\n",
    "p = np.repeat(1/K, K)\n",
    "c = np.random.choice(range(0, K), n, replace = True)"
   ]
  },
  {
   "cell_type": "markdown",
   "metadata": {
    "collapsed": true
   },
   "source": [
    "Here are our prior parameters and starting values for the MCMC.  "
   ]
  },
  {
   "cell_type": "code",
   "execution_count": 28,
   "metadata": {
    "collapsed": false
   },
   "outputs": [],
   "source": [
    "niter = 100\n",
    "thetaSam = np.zeros( (niter, K) )\n",
    "cSam = np.zeros( (niter, n) )\n",
    "pSam = np.zeros( (niter, K) )"
   ]
  },
  {
   "cell_type": "markdown",
   "metadata": {},
   "source": [
    "Arrays to store the results of our estimation."
   ]
  },
  {
   "cell_type": "code",
   "execution_count": 29,
   "metadata": {
    "collapsed": false
   },
   "outputs": [],
   "source": [
    "for u in range(niter):\n",
    "    unique_c = list(set(c))\n",
    "    for j in unique_c:\n",
    "        indices = [i for i, x in enumerate(c) if x == j]\n",
    "        sum_yi = sum(data[i] for i in indices)\n",
    "        nj = len(indices)\n",
    "        post_var = 1/(nj/sigma**2+1/tau**2)\n",
    "        post_mean = (sum_yi/sigma**2)*post_var\n",
    "        theta_vector[j] = float(norm.rvs(post_mean, post_var**.5, 1))\n",
    "    \n",
    "    for j in range(0, n):    \n",
    "        dist = norm.pdf(data[j], theta_vector, sigma)\n",
    "        probs = list(i * j for i, j in zip(p, dist))\n",
    "        probs_normalized = list(i/sum(probs) for i in probs)\n",
    "        c[j] = int(np.random.choice(range(0, K), 1, p=probs_normalized))\n",
    "    \n",
    "    c_extended = np.append(c, np.arange(30))\n",
    "    counts = np.unique(c_extended, return_counts = True)[1] - 1\n",
    "    alpha_updated = list(i + alpha/K for i in counts)\n",
    "    p = dirichlet.rvs(alpha_updated, 1)\n",
    "    p = p[0].tolist()\n",
    "\n",
    "    thetaSam[u] = theta_vector\n",
    "    cSam[u] = c\n",
    "    pSam[u] = p\n",
    "    \n"
   ]
  },
  {
   "cell_type": "markdown",
   "metadata": {},
   "source": [
    "This is the MCMC, the Bayesian algorithm we are using to estimate the parameters of our finite mixture model."
   ]
  },
  {
   "cell_type": "code",
   "execution_count": 30,
   "metadata": {
    "collapsed": false
   },
   "outputs": [
    {
     "data": {
      "image/png": "[encoded data removed]",
      "text/plain": [
       "<matplotlib.figure.Figure at 0x10ee6a0f0>"
      ]
     },
     "metadata": {},
     "output_type": "display_data"
    }
   ],
   "source": [
    "grid = np.arange(60, 80, .2)\n",
    "fsam = np.zeros( (niter, len(grid)) ) \n",
    "\n",
    "for i in range(0, niter):\n",
    "    fsam[i, ] = [sum(pSam[i, ]*norm.pdf(x, thetaSam[i, ], sigma)) for x in grid]\n",
    "\n",
    "fy = [np.mean(fsam[:, x]) for x in range(0, len(grid))] \n",
    "\n",
    "\n",
    "l = matplotlib.pyplot.plot(grid, fy)\n",
    "h = matplotlib.pyplot.hist(data, 10, density = True)\n",
    "matplotlib.pyplot.show()"
   ]
  },
  {
   "cell_type": "markdown",
   "metadata": {},
   "source": [
    "And here we have a plot of our results.  The orange bars are a normalized histogram of the dataset.  The blue curve is the probability density function estimated from the MCMC.  Looks good!\n",
    "\n",
    "In the above example, the data was drawn equally from $N(69.5, 1)$ and $N(64, 1)$.  This of course may not always be the case.  Our height data may be drawn from a population that is $75\\%$ women and $25\\%$ men, for example.\n",
    "\n",
    "Here's what the MCMC looks like in this case."
   ]
  },
  {
   "cell_type": "code",
   "execution_count": 31,
   "metadata": {
    "collapsed": false
   },
   "outputs": [
    {
     "data": {
      "image/png": "[encoded data removed]",
      "text/plain": [
       "<matplotlib.figure.Figure at 0x10f0a4978>"
      ]
     },
     "metadata": {},
     "output_type": "display_data"
    }
   ],
   "source": [
    "data1 = norm.rvs(69.5, sigma, 25)\n",
    "data2 = norm.rvs(64, sigma, 75)\n",
    "data = np.append(data1, data2)\n",
    "thetaSam = np.zeros( (niter, K) )\n",
    "cSam = np.zeros( (niter, n) )\n",
    "pSam = np.zeros( (niter, K) )\n",
    "\n",
    "for u in range(niter):\n",
    "    unique_c = list(set(c))\n",
    "    for j in unique_c:\n",
    "        indices = [i for i, x in enumerate(c) if x == j]\n",
    "        sum_yi = sum(data[i] for i in indices)\n",
    "        nj = len(indices)\n",
    "        post_var = 1/(nj/sigma**2+1/tau**2)\n",
    "        post_mean = (sum_yi/sigma**2)*post_var\n",
    "        theta_vector[j] = float(norm.rvs(post_mean, post_var**.5, 1))\n",
    "    \n",
    "    for j in range(0, n):    \n",
    "        dist = norm.pdf(data[j], theta_vector, sigma)\n",
    "        probs = list(i * j for i, j in zip(p, dist))\n",
    "        probs_normalized = list(i/sum(probs) for i in probs)\n",
    "        c[j] = int(np.random.choice(range(0, K), 1, p=probs_normalized))\n",
    "    \n",
    "    c_extended = np.append(c, np.arange(30))\n",
    "    counts = np.unique(c_extended, return_counts = True)[1] - 1\n",
    "    alpha_updated = list(i + alpha/K for i in counts)\n",
    "    p = dirichlet.rvs(alpha_updated, 1)\n",
    "    p = p[0].tolist()\n",
    "\n",
    "    thetaSam[u] = theta_vector\n",
    "    cSam[u] = c\n",
    "    pSam[u] = p\n",
    "    \n",
    "grid = np.arange(60, 80, .2)\n",
    "fsam = np.zeros( (niter, len(grid)) ) \n",
    "\n",
    "for i in range(0, niter):\n",
    "    fsam[i, ] = [sum(pSam[i, ]*norm.pdf(x, thetaSam[i, ], sigma)) for x in grid]\n",
    "\n",
    "fy = [np.mean(fsam[:, x]) for x in range(0, len(grid))] \n",
    "\n",
    "\n",
    "l = matplotlib.pyplot.plot(grid, fy)\n",
    "h = matplotlib.pyplot.hist(data, 10, density = True)\n",
    "matplotlib.pyplot.show()"
   ]
  },
  {
   "cell_type": "markdown",
   "metadata": {},
   "source": [
    "Looks good again!  \n",
    "\n",
    "This is, of course, a very simple example of a finite mixture model.  These models can be used to estimate densities for populations with more than two components, for example.  \n",
    "\n",
    "I will continue to add to this write-up as time permits.  In the meantime feel free to e-mail me with any feedback: SamuelJLeonard@gmail.com\n",
    "\n",
    "Thanks for reading!"
   ]
  }
 ],
 "metadata": {
  "kernelspec": {
   "display_name": "Python 3",
   "language": "python",
   "name": "python3"
  },
  "language_info": {
   "codemirror_mode": {
    "name": "ipython",
    "version": 3
   },
   "file_extension": ".py",
   "mimetype": "text/x-python",
   "name": "python",
   "nbconvert_exporter": "python",
   "pygments_lexer": "ipython3",
   "version": "3.6.0"
  }
 },
 "nbformat": 4,
 "nbformat_minor": 2
}
