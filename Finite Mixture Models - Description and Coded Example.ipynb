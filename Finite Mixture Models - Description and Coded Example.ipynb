{
 "cells": [
  {
   "cell_type": "markdown",
   "metadata": {},
   "source": [
    "### Finite Mixture Models - Intro and Bayesian Implementation in Python\n",
    "\n",
    "Thanks for checking out my note on finite mixture models.  My goal is to give the reader a solid understanding of why mixture models are useful.  I wrote this for people who have studied Bayesian statistics, but I think even those who have only taken a semester or two of statistics can get something out of it.\n",
    "\n",
    "Feel free to e-mail me with your thoughts and questions: samueljleonard@gmail.com\n",
    "\n",
    "***\n",
    "\n",
    "##### Motivation\n",
    "\n",
    "Imagine you are asked to summarize the results of $1000$ math SAT scores.  If you're feeling lazy that day, you'd probably assume that the scores are drawn from a normal distribution with mean equal to the sample mean and variance equal to the sample variance and leave it at that.  From this model you can make predictions, test hypotheses, etc.\n",
    "\n",
    "Now assume you are given $1000$ SAT scores, but the data is split into two groups.  $500$ of the students did not study a single minute for the exam, while $500$ went through a rigorous tutoring program.  In this case it doesn't make sense to lump the groups together.  Instead, you might perform two separate analyses.  Let the sample mean and variance of the tutored group summarize their performance, and let the sample mean and sample variance of the students who did not study summarize their scores.  Then you could use these two separate models to make predictions, test hypotheses, etc.\n",
    "\n",
    "But what if your data doesn't tell you who studied and who didn't?   \n",
    "\n",
    "This is where finite mixture models come in.  Finite mixture models allow statisiticians to model data that might be drawn from two or more distinct subpopulations, as in this SAT example.  What's cool about these models is you don't need to know a priori which data points belong to which subpopulation.  The mixture model will figure which data point belongs to which group.\n",
    "\n",
    "\n",
    "##### Some Math\n",
    "\n",
    "Now that we understand what the goal of finite mixture models we can do some math.   \n",
    "\n",
    "Here are the variables I'll be using:\n",
    "\n",
    "$y_{i}$ $-$ a student's SAT score\n",
    "\n",
    "$\\theta_{1}$ $-$ the mean of the normal distribution modeling students who did not study\n",
    "\n",
    "$\\theta_{2}$ $-$ the mean of the normal distribution modeling students who were tutored\n",
    "\n",
    "$\\sigma^{2}_{1},\\ \\sigma^{2}_{2}$ $-$ the variance of the normal distribution modeling each subpopulation\n",
    "\n",
    "$\\lambda_{1}$ $-$ the proportion of the $1000$ students belonging to group $1$\n",
    "\n",
    "$\\lambda_{2}$ $-$ the proportion of the $1000$ students belonging to group $2$\n",
    "\n",
    "\n",
    "Assume we know the true value for each of these parameters, but not which student belongs to which population.  What would be the probability that a students test score is in the range 500-600?  \n",
    "\n",
    "Let's assume that the scores of the two subpopulations of students do indeed follow distinct normal distributions.\n",
    "\n",
    "\\begin{equation}\n",
    "\\begin{split}\n",
    "p(500 \\leq y_{i} \\leq 600 |\\ \\theta_{1, 2},\\ \\sigma^{2}_{1, 2},\\ \\lambda_{1, 2}) =\\ &p(500 \\leq y_{i} \\leq 600 |\\ \\textrm{student not tutored})*p(\\textrm{student not tutored})\\ +\\\\\n",
    "&p(500 \\leq y_{i} \\leq 600 |\\ \\textrm{student tutored})*p(\\textrm{student tutored})\n",
    "\\end{split}\n",
    "\\end{equation}\n",
    "\n",
    "Which means that\n",
    "\n",
    "\\begin{equation}\n",
    "\\begin{split}\n",
    "p(500 \\leq y_{i} \\leq 600 |\\ \\theta_{1, 2},\\ \\sigma^{2}_{1, 2},\\ \\lambda_{1, 2}) &=\\ \\lambda_{1}\\int_{500}^{600}\\textrm{Normal}(\\theta_{1},\\ \\sigma^{2}_{1})dy_{i}\\ +\\\n",
    "\\lambda_{2}\\int_{500}^{600}\\textrm{Normal}(\\theta_{2},\\ \\sigma^{2}_{2})dy_{i}\\\\\n",
    "&=\\ \\int_{500}^{600}\\lambda_{1}\\textrm{Normal}(\\theta_{1},\\ \\sigma^{2}_{1})\\ +\\ \\lambda_{2}\\textrm{Normal}(\\theta_{2},\\ \\sigma^{2}_{2})dy_{i}\n",
    "\\end{split}\n",
    "\\end{equation}\n",
    "\n",
    "\n",
    "So the way the math works out, the density function (the integrand in our example) for a mixture model is just the weighted sum of the distributions which make up the mixture model.  This is the origin of the density function for mixture models you may have seen in textbooks:\n",
    "\n",
    "$$p(y\\ |\\ \\theta_{1},\\ ...,\\ \\theta_{K},\\ \\lambda_{1},\\ ...,\\ \\lambda_{k})\\ =\\ \\sum_{i = 1}^{K}\\lambda_{i}p(y\\ |\\ \\theta_{i})$$\n",
    "\n",
    "Where here the $\\theta_{i}$ represent parameters for any probability distribution, and the $\\lambda_{i}$ represent the probability $y$ is drawn from distribution $i$ so that $\\sum \\lambda_{i}= 1$.\n",
    "\n",
    "\n",
    "##### Code and Results of a Bayesian Implementation \n",
    "\n",
    "Now we know the motivation for finite mixture models: to model data that is potentially drawn from multiple subpopulations.  And we also have a rough derivation for the density function of a finite mixture model.  \n",
    "\n",
    "So now let's generate some data and implement a simple example.  I'll use Python to run a Monte Carlo Markov Chain to generate estimates of the relevant parameters.\n",
    "\n",
    "\n",
    "If you're not familiar with MCMCs don't sweat it.  You'll be able to interpret the visualizations below.  \n",
    "\n",
    "If you are familiar with MCMCs feel free to e-mail me if you want more info on the priors and resulting full conditionals I'm using.\n",
    "\n",
    "\n"
   ]
  },
  {
   "cell_type": "code",
   "execution_count": 32,
   "metadata": {
    "collapsed": false
   },
   "outputs": [],
   "source": [
    "%matplotlib inline\n",
    "import matplotlib\n",
    "import numpy as np\n",
    "from scipy.stats import norm, dirichlet\n",
    "\n",
    "sigma = 50\n",
    "data1 = norm.rvs(425, sigma, 500)\n",
    "data2 = norm.rvs(575, sigma, 500)\n",
    "data = np.append(data1, data2)"
   ]
  },
  {
   "cell_type": "markdown",
   "metadata": {},
   "source": [
    "Here's a dataset consisting of $500$ random draws each from two distinct normal distributions.  The first with a mean of $425$, an approximate mean math SAT score for individuals who did not study, and the second with mean $575$, the mean for students who did receive tutoring.\n",
    "\n",
    "For the sake of simplicity, I've set the variance of both sitributions at $50$.  We can easily relax this restriction, but for now let's go with it."
   ]
  },
  {
   "cell_type": "code",
   "execution_count": 33,
   "metadata": {
    "collapsed": false,
    "scrolled": true
   },
   "outputs": [],
   "source": [
    "K = 30\n",
    "alpha = 1\n",
    "n = len(data)\n",
    "tau = 50\n",
    "mu0 = 500\n",
    "theta_vector = norm.rvs(mu0, tau, K)\n",
    "p = np.repeat(1/K, K)\n",
    "c = np.random.choice(range(0, K), n, replace = True)"
   ]
  },
  {
   "cell_type": "markdown",
   "metadata": {
    "collapsed": true
   },
   "source": [
    "Here are our prior parameters and starting values for the MCMC.  "
   ]
  },
  {
   "cell_type": "code",
   "execution_count": 34,
   "metadata": {
    "collapsed": false
   },
   "outputs": [],
   "source": [
    "niter = 300\n",
    "thetaSam = np.zeros( (niter, K) )\n",
    "cSam = np.zeros( (niter, n) )\n",
    "pSam = np.zeros( (niter, K) )"
   ]
  },
  {
   "cell_type": "markdown",
   "metadata": {},
   "source": [
    "Arrays to store the results of our estimation."
   ]
  },
  {
   "cell_type": "code",
   "execution_count": 35,
   "metadata": {
    "collapsed": false
   },
   "outputs": [],
   "source": [
    "for u in range(niter):\n",
    "    unique_c = list(set(c))\n",
    "    for j in unique_c:\n",
    "        indices = [i for i, x in enumerate(c) if x == j]\n",
    "        sum_yi = sum(data[i] for i in indices)\n",
    "        nj = len(indices)\n",
    "        post_var = 1/(nj/sigma**2+1/tau**2)\n",
    "        post_mean = (sum_yi/sigma**2)*post_var\n",
    "        theta_vector[j] = float(norm.rvs(post_mean, post_var**.5, 1))\n",
    "    \n",
    "    for j in range(0, n):    \n",
    "        dist = norm.pdf(data[j], theta_vector, sigma)\n",
    "        probs = list(i * j for i, j in zip(p, dist))\n",
    "        probs_normalized = list(i/sum(probs) for i in probs)\n",
    "        c[j] = int(np.random.choice(range(0, K), 1, p=probs_normalized))\n",
    "    \n",
    "    c_extended = np.append(c, np.arange(30))\n",
    "    counts = np.unique(c_extended, return_counts = True)[1] - 1\n",
    "    alpha_updated = list(i + alpha/K for i in counts)\n",
    "    p = dirichlet.rvs(alpha_updated, 1)\n",
    "    p = p[0].tolist()\n",
    "\n",
    "    thetaSam[u] = theta_vector\n",
    "    cSam[u] = c\n",
    "    pSam[u] = p\n",
    "    \n"
   ]
  },
  {
   "cell_type": "markdown",
   "metadata": {},
   "source": [
    "This is the MCMC, the Bayesian algorithm we are using to estimate the parameters of our finite mixture model."
   ]
  },
  {
   "cell_type": "code",
   "execution_count": 36,
   "metadata": {
    "collapsed": false
   },
   "outputs": [
    {
     "data": {
      "image/png": "[encoded data removed]",
      "text/plain": [
       "<matplotlib.figure.Figure at 0x1a1d5de390>"
      ]
     },
     "metadata": {},
     "output_type": "display_data"
    }
   ],
   "source": [
    "grid = np.arange(100, 800, 1)\n",
    "fsam = np.zeros( (niter, len(grid)) ) \n",
    "\n",
    "for i in range(0, niter):\n",
    "    fsam[i, ] = [sum(pSam[i, ]*norm.pdf(x, thetaSam[i, ], sigma)) for x in grid]\n",
    "\n",
    "fy = [np.mean(fsam[:, x]) for x in range(0, len(grid))] \n",
    "\n",
    "\n",
    "l = matplotlib.pyplot.plot(grid, fy)\n",
    "h = matplotlib.pyplot.hist(data, 10, density = True)\n",
    "matplotlib.pyplot.show()"
   ]
  },
  {
   "cell_type": "markdown",
   "metadata": {},
   "source": [
    "And here we have a plot of our results.  The orange bars are a normalized histogram of the dataset.  The blue curve is the probability density function estimated from our finite mixture model.  \n",
    "\n",
    "Looks pretty good!  The MCMC was able to detect the two modes representing the averages for students who studied and did not study.\n",
    "\n",
    "In the above example, there were exactly $500$ of each type of student.  This of course may not always be the case.  Again, one of the advantages of a finite mixture model is that we do not need to know which students belong to which group, including how many are in each group. \n",
    "\n",
    "What if $750$ students were tutored?\n",
    "\n",
    "Here's what the MCMC looks like in this case."
   ]
  },
  {
   "cell_type": "code",
   "execution_count": 37,
   "metadata": {
    "collapsed": false
   },
   "outputs": [
    {
     "data": {
      "image/png": "[encoded data removed]",
      "text/plain": [
       "<matplotlib.figure.Figure at 0x1a1e984898>"
      ]
     },
     "metadata": {},
     "output_type": "display_data"
    }
   ],
   "source": [
    "data1 = norm.rvs(425, sigma, 250)\n",
    "data2 = norm.rvs(575, sigma, 750)\n",
    "data = np.append(data1, data2)\n",
    "thetaSam = np.zeros( (niter, K) )\n",
    "cSam = np.zeros( (niter, n) )\n",
    "pSam = np.zeros( (niter, K) )\n",
    "\n",
    "for u in range(niter):\n",
    "    unique_c = list(set(c))\n",
    "    for j in unique_c:\n",
    "        indices = [i for i, x in enumerate(c) if x == j]\n",
    "        sum_yi = sum(data[i] for i in indices)\n",
    "        nj = len(indices)\n",
    "        post_var = 1/(nj/sigma**2+1/tau**2)\n",
    "        post_mean = (sum_yi/sigma**2)*post_var\n",
    "        theta_vector[j] = float(norm.rvs(post_mean, post_var**.5, 1))\n",
    "    \n",
    "    for j in range(0, n):    \n",
    "        dist = norm.pdf(data[j], theta_vector, sigma)\n",
    "        probs = list(i * j for i, j in zip(p, dist))\n",
    "        probs_normalized = list(i/sum(probs) for i in probs)\n",
    "        c[j] = int(np.random.choice(range(0, K), 1, p=probs_normalized))\n",
    "    \n",
    "    c_extended = np.append(c, np.arange(30))\n",
    "    counts = np.unique(c_extended, return_counts = True)[1] - 1\n",
    "    alpha_updated = list(i + alpha/K for i in counts)\n",
    "    p = dirichlet.rvs(alpha_updated, 1)\n",
    "    p = p[0].tolist()\n",
    "\n",
    "    thetaSam[u] = theta_vector\n",
    "    cSam[u] = c\n",
    "    pSam[u] = p\n",
    "    \n",
    "grid = np.arange(100, 800, 1)\n",
    "fsam = np.zeros( (niter, len(grid)) ) \n",
    "\n",
    "for i in range(0, niter):\n",
    "    fsam[i, ] = [sum(pSam[i, ]*norm.pdf(x, thetaSam[i, ], sigma)) for x in grid]\n",
    "\n",
    "fy = [np.mean(fsam[:, x]) for x in range(0, len(grid))] \n",
    "\n",
    "\n",
    "l = matplotlib.pyplot.plot(grid, fy)\n",
    "h = matplotlib.pyplot.hist(data, 10, density = True)\n",
    "matplotlib.pyplot.show()"
   ]
  },
  {
   "cell_type": "markdown",
   "metadata": {},
   "source": [
    "Looks good again!  Note that the high peak around $575$ is approximately $3$ times the magnitude of the small peak on the left.  Without changing any part of the code whatsoever, the mixture model was able to detect the approximate size of each subpopulation.\n",
    "\n",
    "Pretty cool, right?\n",
    "\n",
    "This, of course, a very simple example of a mixture model.  I've used synthetic data which the model detects easily.  And furthermore I used a fixed, relatively small, variance for both subpopulations.  \n",
    "\n",
    "In the real world models don't work so perfectly.  If the variance of the two normal distributions was large enough, the model would not be able to detect the multiple modes.  Like all models, finite mixtures have limitations.\n",
    "\n",
    "However, I hope I've demonstrated the flexibility and utility of these models.  \n",
    "\n",
    "Thanks for reading!"
   ]
  }
 ],
 "metadata": {
  "kernelspec": {
   "display_name": "Python 3",
   "language": "python",
   "name": "python3"
  },
  "language_info": {
   "codemirror_mode": {
    "name": "ipython",
    "version": 3
   },
   "file_extension": ".py",
   "mimetype": "text/x-python",
   "name": "python",
   "nbconvert_exporter": "python",
   "pygments_lexer": "ipython3",
   "version": "3.6.0"
  }
 },
 "nbformat": 4,
 "nbformat_minor": 2
}
